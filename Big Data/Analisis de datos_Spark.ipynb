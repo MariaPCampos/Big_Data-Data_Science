{
 "cells": [
  {
   "cell_type": "markdown",
   "metadata": {},
   "source": [
    "## Actividad: Análisis de datos con Spark.\n",
    "### 1. Importación de librerías y carga de datos\n",
    "En primer lugar, importamos las librerías que utilizaremos para la actividad y, seguidamente, configuramos e inicializamos Spark. Lo configuramos para funcionar en modo local y le ponemos un nombre a nuestra aplicación, en este caso, \"contratos_app\"."
   ]
  },
  {
   "cell_type": "code",
   "execution_count": 1,
   "metadata": {},
   "outputs": [],
   "source": [
    "from pyspark.sql import SparkSession\n",
    "from pyspark import SparkConf\n",
    "from pyspark.sql.functions import sum\n",
    "\n",
    "spark_conf = SparkConf().setMaster(\"local\").setAppName(\"contratos_app\")\n",
    "spark = SparkSession.builder.config(conf=spark_conf).getOrCreate()"
   ]
  },
  {
   "cell_type": "markdown",
   "metadata": {},
   "source": [
    "Cargamos los dos ficheros csv como dataframes con inferencia de esquema y mostramos por pantalla los primeros cinco registros y el esquema de cada dataframe para comprobar que se han cargado bien los datos."
   ]
  },
  {
   "cell_type": "code",
   "execution_count": 2,
   "metadata": {},
   "outputs": [
    {
     "name": "stdout",
     "output_type": "stream",
     "text": [
      "+----------+---------+---------+---------------+-----------------+-----------------+\n",
      "|codigo_mes|provincia|municipio|total_contratos|contratos_hombres|contratos_mujeres|\n",
      "+----------+---------+---------+---------------+-----------------+-----------------+\n",
      "|    201601|  Almeria|     Abla|             27|               20|                7|\n",
      "|    201601|  Almeria| Abrucena|             39|               26|               13|\n",
      "|    201601|  Almeria|     Adra|            456|              259|              197|\n",
      "|    201601|  Almeria|Albanchez|              7|                4|                3|\n",
      "|    201601|  Almeria|Alboloduy|              6|                3|                3|\n",
      "+----------+---------+---------+---------------+-----------------+-----------------+\n",
      "only showing top 5 rows\n",
      "\n",
      "root\n",
      " |-- codigo_mes: integer (nullable = true)\n",
      " |-- provincia: string (nullable = true)\n",
      " |-- municipio: string (nullable = true)\n",
      " |-- total_contratos: integer (nullable = true)\n",
      " |-- contratos_hombres: integer (nullable = true)\n",
      " |-- contratos_mujeres: integer (nullable = true)\n",
      "\n",
      "+------------------+---------+\n",
      "|Comunidad_Autonoma|Provincia|\n",
      "+------------------+---------+\n",
      "|         Andalucia|  Almeria|\n",
      "|         Andalucia|    Cadiz|\n",
      "|         Andalucia|  Cordoba|\n",
      "|         Andalucia|  Granada|\n",
      "|         Andalucia|   Huelva|\n",
      "+------------------+---------+\n",
      "only showing top 5 rows\n",
      "\n",
      "root\n",
      " |-- Comunidad_Autonoma: string (nullable = true)\n",
      " |-- Provincia: string (nullable = true)\n",
      "\n"
     ]
    }
   ],
   "source": [
    "# Carga del csv de contratos por municipio.\n",
    "contracts_df = spark.read.options(delimiter=\";\", header=True, inferSchema=True).csv(\"./Contratos_por_municipio.csv\")\n",
    "contracts_df.show(5)\n",
    "contracts_df.printSchema()\n",
    "\n",
    "# Carga del csv de comunidades y provincias.\n",
    "communities_df = spark.read.options(delimiter=\";\", header=True, inferSchema=True).csv(\"./Comunidades_y_provincias.csv\")\n",
    "communities_df.show(5)\n",
    "communities_df.printSchema()"
   ]
  },
  {
   "cell_type": "markdown",
   "metadata": {},
   "source": [
    "### 2. Operaciones sobre los dataframes\n",
    "Con el objetivo de contestar a la pregunta que se plantea en la actividad, **¿Qué comunidades autónomas han realizado más contratos a mujeres que a hombres durante todo el periodo?**, se realizarán las siguientes operaciones sobre los dataframes:\n",
    "- Join.\n",
    "- GroupBy.\n",
    "- Agg.\n",
    "- Filter.\n",
    "\n",
    "Empezamos utilizando la función `join` para unir los registros de contratos y comunidades que tengan el mismo valor en la columna \"provincia\" y guardamos el resultado en un nuevo dataframe al que llamaremos \"joined_df\". Mostramos por pantalla los cinco primeros resultados del nuevo dataframe."
   ]
  },
  {
   "cell_type": "code",
   "execution_count": 3,
   "metadata": {},
   "outputs": [
    {
     "name": "stdout",
     "output_type": "stream",
     "text": [
      "+----------+---------+---------+---------------+-----------------+-----------------+------------------+---------+\n",
      "|codigo_mes|provincia|municipio|total_contratos|contratos_hombres|contratos_mujeres|Comunidad_Autonoma|Provincia|\n",
      "+----------+---------+---------+---------------+-----------------+-----------------+------------------+---------+\n",
      "|    201601|  Almeria|     Abla|             27|               20|                7|         Andalucia|  Almeria|\n",
      "|    201601|  Almeria| Abrucena|             39|               26|               13|         Andalucia|  Almeria|\n",
      "|    201601|  Almeria|     Adra|            456|              259|              197|         Andalucia|  Almeria|\n",
      "|    201601|  Almeria|Albanchez|              7|                4|                3|         Andalucia|  Almeria|\n",
      "|    201601|  Almeria|Alboloduy|              6|                3|                3|         Andalucia|  Almeria|\n",
      "+----------+---------+---------+---------------+-----------------+-----------------+------------------+---------+\n",
      "only showing top 5 rows\n",
      "\n"
     ]
    }
   ],
   "source": [
    "joined_df = contracts_df.join(communities_df, contracts_df.provincia == communities_df.Provincia, 'inner')\n",
    "\n",
    "joined_df.show(5)"
   ]
  },
  {
   "cell_type": "markdown",
   "metadata": {},
   "source": [
    "A continuación, utilizamos las funciones `groupBy` y `agg` para obtener la suma total de contratos de cada comunidad. Para ello, primero agrupamos por comunidad autónoma y como agregación calculamos la suma de los contratos. Además, renombramos las nuevas columnas haciendo uso del alias. Mostramos por pantalla los cinco primeros resultados de la nueva variable que contiene la agrupación."
   ]
  },
  {
   "cell_type": "code",
   "execution_count": 4,
   "metadata": {},
   "outputs": [
    {
     "name": "stdout",
     "output_type": "stream",
     "text": [
      "+--------------------+---------------------+---------------------+\n",
      "|  Comunidad_Autonoma|num_contratos_hombres|num_contratos_mujeres|\n",
      "+--------------------+---------------------+---------------------+\n",
      "|Comunitat Valenciana|               608068|               436580|\n",
      "|           Cantabria|                67918|                67813|\n",
      "|   Murcia, Region de|               378124|               180291|\n",
      "|         Extremadura|               213457|               136266|\n",
      "|             Galicia|               278054|               250900|\n",
      "+--------------------+---------------------+---------------------+\n",
      "only showing top 5 rows\n",
      "\n"
     ]
    }
   ],
   "source": [
    "contracts_by_community = joined_df \\\n",
    "    .groupBy(joined_df.Comunidad_Autonoma) \\\n",
    "    .agg(sum(joined_df.contratos_hombres).alias(\"num_contratos_hombres\"), sum(joined_df.contratos_mujeres).alias(\"num_contratos_mujeres\"))\n",
    "\n",
    "contracts_by_community.show(5)"
   ]
  },
  {
   "cell_type": "markdown",
   "metadata": {},
   "source": [
    "Finalmente, utilizamos la función `filter` para quedarnos únicamente con los registros que cumplan la condición de haber realizado más contratos a mujeres que a hombres; guardamos el resultado en una nueva variable a la que llamaremos \"more_woman\" y como siempre, mostramos por pantalla los cinco primeros resultados."
   ]
  },
  {
   "cell_type": "code",
   "execution_count": 5,
   "metadata": {},
   "outputs": [
    {
     "name": "stdout",
     "output_type": "stream",
     "text": [
      "+--------------------+---------------------+---------------------+\n",
      "|  Comunidad_Autonoma|num_contratos_hombres|num_contratos_mujeres|\n",
      "+--------------------+---------------------+---------------------+\n",
      "|Navarra, Comunida...|                97782|               104844|\n",
      "|          Pais Vasco|               259770|               261310|\n",
      "|             Melilla|                 5188|                 5708|\n",
      "+--------------------+---------------------+---------------------+\n",
      "\n"
     ]
    }
   ],
   "source": [
    "more_woman = contracts_by_community.filter(contracts_by_community.num_contratos_hombres < contracts_by_community.num_contratos_mujeres)\n",
    "\n",
    "more_woman.show(5)"
   ]
  },
  {
   "cell_type": "markdown",
   "metadata": {},
   "source": [
    "### 3. Resultado\n",
    "Para terminar, escribimos el resultado en csv utilizando `coalesce(1)` para que Spark escriba todo en un solo archivo."
   ]
  },
  {
   "cell_type": "code",
   "execution_count": 6,
   "metadata": {},
   "outputs": [],
   "source": [
    "more_woman.coalesce(1).write.mode('overwrite').option(\"header\", \"true\").csv(\"./mas_contratos_a_mujeres\")"
   ]
  }
 ],
 "metadata": {
  "kernelspec": {
   "display_name": "Python 3",
   "language": "python",
   "name": "python3"
  },
  "language_info": {
   "codemirror_mode": {
    "name": "ipython",
    "version": 3
   },
   "file_extension": ".py",
   "mimetype": "text/x-python",
   "name": "python",
   "nbconvert_exporter": "python",
   "pygments_lexer": "ipython3",
   "version": "3.8.6"
  }
 },
 "nbformat": 4,
 "nbformat_minor": 4
}