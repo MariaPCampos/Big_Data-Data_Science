{
 "cells": [
  {
   "cell_type": "code",
   "execution_count": 2,
   "metadata": {},
   "outputs": [],
   "source": [
    "# Importamos las librerías necesarias.\n",
    "import numpy as np\n",
    "import random"
   ]
  },
  {
   "cell_type": "code",
   "execution_count": 36,
   "metadata": {},
   "outputs": [
    {
     "name": "stdout",
     "output_type": "stream",
     "text": [
      "Para iniciar el juego, introduzca una moneda por favor 2\n",
      "Has sacado la siguiente tirada: [8, 3, 2]\n",
      "No has obtenido ninguna coincidencia, ¡has perdido!\n",
      "¿Quieres continuar jugando? yes\n",
      "Has sacado la siguiente tirada: [4, 9, 0]\n",
      "No has obtenido ninguna coincidencia, ¡has perdido!\n",
      "¿Quieres continuar jugando? yes\n"
     ]
    }
   ],
   "source": [
    "# Creamos una función que nos calcule la tirada aleatoria.\n",
    "def get_random_roll():\n",
    "    XYZ = [random.randint(0, 9), random.randint(0, 9), random.randint(0, 9)]\n",
    "    \n",
    "    return XYZ\n",
    "\n",
    "\n",
    "# Creamos una función que pida monedas al usuario.\n",
    "def get_money():\n",
    "    starting_money = int(input(\"Para iniciar el juego, introduzca una moneda por favor \"))\n",
    "    while starting_money < 0:\n",
    "        starting_money = int(input(\"Ha introducido un valor negativo, ¡introduzca uno positivo por favor! :) \"))\n",
    "    \n",
    "    return starting_money\n",
    "\n",
    "\n",
    "# Creamos una variable para guardar el dinero total con el que empezamos.\n",
    "total_money = get_money()\n",
    "\n",
    "\n",
    "# Creamos una función para decidir si una jugada se gana o se pierde.\n",
    "def roll_result():\n",
    "    result = 0\n",
    "    roll = get_random_roll()\n",
    "    print(f\"Has sacado la siguiente tirada: {roll}\")\n",
    "    if len(roll) == len(set(roll)):\n",
    "        result = 1\n",
    "    elif len(set(roll)) == 2:\n",
    "        result = 2\n",
    "    else:\n",
    "        result = 3\n",
    "\n",
    "    return result\n",
    "\n",
    "\n",
    "# Iniciamos el juego.\n",
    "ask_go_on = \"yes\"\n",
    "while total_money > 0 and ask_go_on == \"yes\":\n",
    "    result_roll = roll_result()\n",
    "    total_money -= 1\n",
    "    if result_roll == 1:\n",
    "        print(\"No has obtenido ninguna coincidencia, ¡has perdido!\")\n",
    "    elif result_roll == 2:\n",
    "        total_money += 2\n",
    "        print(\"¡Has ganado con dos coincidencias! Recibes 2 monedas\")\n",
    "    else:\n",
    "        total_money += 5\n",
    "        print(\"¡Has ganado con las tres coincidencias! Recibes 5 monedas\")\n",
    "        \n",
    "    ask_go_on = input(\"¿Quieres continuar jugando? \")"
   ]
  }
 ],
 "metadata": {
  "kernelspec": {
   "display_name": "Python 3",
   "language": "python",
   "name": "python3"
  },
  "language_info": {
   "codemirror_mode": {
    "name": "ipython",
    "version": 3
   },
   "file_extension": ".py",
   "mimetype": "text/x-python",
   "name": "python",
   "nbconvert_exporter": "python",
   "pygments_lexer": "ipython3",
   "version": "3.7.6"
  }
 },
 "nbformat": 4,
 "nbformat_minor": 4
}
