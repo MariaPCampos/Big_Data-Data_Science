{
 "cells": [
  {
   "cell_type": "code",
   "execution_count": 2,
   "metadata": {},
   "outputs": [],
   "source": [
    "# Importamos la librería random.\n",
    "import random"
   ]
  },
  {
   "cell_type": "code",
   "execution_count": null,
   "metadata": {},
   "outputs": [],
   "source": [
    "random.randint(1, 21)"
   ]
  },
  {
   "cell_type": "code",
   "execution_count": 13,
   "metadata": {},
   "outputs": [
    {
     "name": "stdout",
     "output_type": "stream",
     "text": [
      "Tu mano es [9] que suma 9 \n",
      "Quieres otra carta? (s/n)s\n",
      "Tu mano es [9, 8] que suma 17 \n",
      "Quieres otra carta? (s/n)n\n",
      "La mesa puntua 18\n",
      "Has perdido con la mano [9, 8] y una puntuacion de 17 \n"
     ]
    }
   ],
   "source": [
    "cards = [1, 2, 3, 4, 5, 6, 7, 8, 9, 10, \"J\", \"Q\", \"K\"]\n",
    "\n",
    "# mazo completo\n",
    "deck = cards * 4\n",
    "\n",
    "# calcula la puntuacion de una mano de cartas\n",
    "def get_score(hand):\n",
    "    score = 0\n",
    "    for card in hand:\n",
    "        if card in [\"J\", \"Q\", \"K\"]:\n",
    "            score += 10\n",
    "        else:\n",
    "            score += card\n",
    "    return score\n",
    "\n",
    "# La puntuacion de \"la mesa\"\n",
    "table_score = random.randint(1, 21)\n",
    "\n",
    "# indica con true si una mano es ganadora (es 21, o es mayor que la de la mesa)\n",
    "def winner_hand(hand):\n",
    "    score = get_score(hand)\n",
    "    if score == 21:\n",
    "        return True\n",
    "    elif score > 21:\n",
    "        return False\n",
    "    else:\n",
    "        # gana si tiene mas puntos que \"la mesa\"\n",
    "        return table_score < score\n",
    "\n",
    "# saca una carta aleatoria de la baraja\n",
    "def next_card():\n",
    "    random.shuffle(deck)\n",
    "    card = deck.pop()\n",
    "    return card\n",
    "\n",
    "\n",
    "# variable para saber cuando parar\n",
    "keep_playing = True\n",
    "\n",
    "# mano del usuario (empieza con una carta)\n",
    "user_hand = [next_card()]\n",
    "\n",
    "\n",
    "while (keep_playing):\n",
    "    print(f\"Tu mano es {user_hand} que suma {get_score(user_hand)} \")\n",
    "    # obtenemos la respuesta del user\n",
    "    resp = input(\"Quieres otra carta? (s/n)\")\n",
    "\n",
    "    if resp == \"n\":\n",
    "        keep_playing = False\n",
    "    elif resp == \"s\":\n",
    "        user_hand.append(next_card())\n",
    "        if get_score(user_hand) > 21:\n",
    "            keep_playing = False\n",
    "    else:\n",
    "        # si responde algo distinto\n",
    "        print(\"No entiendo esa respuesta\")\n",
    "\n",
    "print(f\"La mesa puntua {table_score}\")\n",
    "if winner_hand(user_hand):\n",
    "    print(f\"Has ganado con la mano {user_hand} con una puntuacion de {get_score(user_hand)} \")\n",
    "else:\n",
    "    print(f\"Has perdido con la mano {user_hand} y una puntuacion de {get_score(user_hand)} \")"
   ]
  },
  {
   "cell_type": "code",
   "execution_count": 10,
   "metadata": {},
   "outputs": [
    {
     "data": {
      "text/plain": [
       "11"
      ]
     },
     "execution_count": 10,
     "metadata": {},
     "output_type": "execute_result"
    }
   ],
   "source": [
    "random.randint(1, 21)"
   ]
  },
  {
   "cell_type": "code",
   "execution_count": null,
   "metadata": {},
   "outputs": [],
   "source": []
  }
 ],
 "metadata": {
  "kernelspec": {
   "display_name": "Python 3",
   "language": "python",
   "name": "python3"
  },
  "language_info": {
   "codemirror_mode": {
    "name": "ipython",
    "version": 3
   },
   "file_extension": ".py",
   "mimetype": "text/x-python",
   "name": "python",
   "nbconvert_exporter": "python",
   "pygments_lexer": "ipython3",
   "version": "3.8.5"
  }
 },
 "nbformat": 4,
 "nbformat_minor": 4
}
